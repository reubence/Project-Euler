{
  "nbformat": 4,
  "nbformat_minor": 0,
  "metadata": {
    "colab": {
      "name": "Multiples of 3 and 5.ipynb",
      "provenance": [],
      "include_colab_link": true
    },
    "kernelspec": {
      "name": "python3",
      "display_name": "Python 3"
    }
  },
  "cells": [
    {
      "cell_type": "markdown",
      "metadata": {
        "id": "view-in-github",
        "colab_type": "text"
      },
      "source": [
        "<a href=\"https://colab.research.google.com/github/reubence/Project-Euler/blob/master/Multiples_of_3_and_5.ipynb\" target=\"_parent\"><img src=\"https://colab.research.google.com/assets/colab-badge.svg\" alt=\"Open In Colab\"/></a>"
      ]
    },
    {
      "cell_type": "markdown",
      "metadata": {
        "id": "LOhKA3c07qpH",
        "colab_type": "text"
      },
      "source": [
        "**Problem-1: Multiples of 3 and 5**"
      ]
    },
    {
      "cell_type": "code",
      "metadata": {
        "id": "BXPWQveg5oxj",
        "colab_type": "code",
        "colab": {
          "base_uri": "https://localhost:8080/",
          "height": 33
        },
        "outputId": "36778094-c897-41d7-8376-e6c059ec43cb"
      },
      "source": [
        "total_sum = 0\n",
        "i=0\n",
        "for f in range(1000):\n",
        "  if (f%3==0 or f%5==0):\n",
        "    total_sum = total_sum+f\n",
        "print(total_sum)"
      ],
      "execution_count": 7,
      "outputs": [
        {
          "output_type": "stream",
          "text": [
            "233168\n"
          ],
          "name": "stdout"
        }
      ]
    },
    {
      "cell_type": "code",
      "metadata": {
        "id": "ZhXcjIzG6e9r",
        "colab_type": "code",
        "colab": {}
      },
      "source": [
        ""
      ],
      "execution_count": 0,
      "outputs": []
    }
  ]
}