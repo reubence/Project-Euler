{
  "nbformat": 4,
  "nbformat_minor": 0,
  "metadata": {
    "colab": {
      "name": "Problem-5.ipynb",
      "provenance": [],
      "include_colab_link": true
    },
    "kernelspec": {
      "name": "python3",
      "display_name": "Python 3"
    },
    "accelerator": "GPU"
  },
  "cells": [
    {
      "cell_type": "markdown",
      "metadata": {
        "id": "view-in-github",
        "colab_type": "text"
      },
      "source": [
        "<a href=\"https://colab.research.google.com/github/reubence/Project-Euler/blob/master/Problem_5.ipynb\" target=\"_parent\"><img src=\"https://colab.research.google.com/assets/colab-badge.svg\" alt=\"Open In Colab\"/></a>"
      ]
    },
    {
      "cell_type": "markdown",
      "metadata": {
        "id": "LOhKA3c07qpH",
        "colab_type": "text"
      },
      "source": [
        "**Problem-5:** 2520 is the smallest number that can be divided by each of the numbers from 1 to 10 without any remainder.\n",
        "\n",
        "What is the smallest positive number that is evenly divisible by all of the numbers from 1 to 20?\n",
        "\n"
      ]
    },
    {
      "cell_type": "code",
      "metadata": {
        "id": "T2kA-pQEcmqT",
        "colab_type": "code",
        "outputId": "a54fb85b-962f-43ee-82d2-310a1970a2a0",
        "colab": {
          "base_uri": "https://localhost:8080/",
          "height": 50
        }
      },
      "source": [
        "def findSmallestMultiple(n):\n",
        "    for i in range(n, factorial(n) + 1, n):\n",
        "        if isMultiple(i, n):\n",
        "            return i\n",
        "    return -1\n",
        "\n",
        "def isMultiple(x, n):\n",
        "    for i in range(1, n):\n",
        "        if x % i != 0:\n",
        "            return False\n",
        "    return True\n",
        "\n",
        "def factorial(n):\n",
        "    if n > 1: return n * factorial(n - 1)\n",
        "    elif n >= 0: return 1\n",
        "    else: return -1\n",
        "\n",
        "print (findSmallestMultiple(10)) # 2520\n",
        "print (findSmallestMultiple(20))\n"
      ],
      "execution_count": 0,
      "outputs": [
        {
          "output_type": "stream",
          "text": [
            "2520\n",
            "232792560\n"
          ],
          "name": "stdout"
        }
      ]
    },
    {
      "cell_type": "markdown",
      "metadata": {
        "id": "QCMvL1yhMTmc",
        "colab_type": "text"
      },
      "source": [
        ""
      ]
    }
  ]
}